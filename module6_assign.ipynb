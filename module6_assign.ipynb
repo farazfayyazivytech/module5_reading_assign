{
 "cells": [
  {
   "cell_type": "code",
   "execution_count": 3,
   "id": "df01fbfc-a167-443e-b4cf-9f51bf5daed3",
   "metadata": {},
   "outputs": [],
   "source": [
    "# 13.1\n",
    "# Created today.txt file with string \"Today is 9/24/2024\""
   ]
  },
  {
   "cell_type": "code",
   "execution_count": 9,
   "id": "fb31113c-0842-4bc3-b0df-6edfbf4bccb5",
   "metadata": {},
   "outputs": [
    {
     "name": "stdout",
     "output_type": "stream",
     "text": [
      "<_io.TextIOWrapper name='today.txt' mode='r' encoding='cp1252'>\n"
     ]
    }
   ],
   "source": [
    "# 13.2\n",
    "# reading today.txt into variable \"today_string\"\n",
    "today_string = open('today.txt', 'r')\n",
    "\n",
    "print(today_string)"
   ]
  },
  {
   "cell_type": "code",
   "execution_count": 8,
   "id": "32a62b0a-ef70-41c9-b5af-7f141406832c",
   "metadata": {},
   "outputs": [
    {
     "name": "stdout",
     "output_type": "stream",
     "text": [
      "September 24, 2024\n"
     ]
    }
   ],
   "source": [
    "# 13.3\n",
    "# parsing content into \"parse\" variable\n",
    "parse = today_string.read()\n",
    "\n",
    "print(parse)"
   ]
  },
  {
   "cell_type": "code",
   "execution_count": 43,
   "id": "959e124f-622d-4172-a310-74b1fb495683",
   "metadata": {},
   "outputs": [
    {
     "name": "stdout",
     "output_type": "stream",
     "text": [
      "I'm First, in process 20136\n"
     ]
    }
   ],
   "source": [
    "# 15.1\n",
    "\n",
    "# This program runs 1st function to make sure it is processing\n",
    "# 2nd function is processed 3 times to return time\n",
    "\n",
    "import multiprocessing\n",
    "import time\n",
    "import os\n",
    "\n",
    "current_time = time.localtime()\n",
    "time_str = f\"{current_time[3]}:{current_time[4]}:{current_time[5]}\"\n",
    "\n",
    "def first(name):\n",
    "    print(\"I'm %s, in process %s\" % (name, os.getpid()))\n",
    "\n",
    "def get_time(name):\n",
    "    first(name)\n",
    "    start = 0\n",
    "    stop = 3\n",
    "    for num in range(start, stop):\n",
    "        print(\"\\tNumber %s of %s.\" % (num, stop), time_str)\n",
    "        time.sleep(1)\n",
    "\n",
    "if __name__ == \"__main__\":\n",
    "    first(\"First\")\n",
    "    p = multiprocessing.Process(target=get_time, args=(\"Time Getter\",))\n",
    "    p.start()\n",
    "    time.sleep(5)\n",
    "    p.terminate()"
   ]
  }
 ],
 "metadata": {
  "kernelspec": {
   "display_name": "Python 3 (ipykernel)",
   "language": "python",
   "name": "python3"
  },
  "language_info": {
   "codemirror_mode": {
    "name": "ipython",
    "version": 3
   },
   "file_extension": ".py",
   "mimetype": "text/x-python",
   "name": "python",
   "nbconvert_exporter": "python",
   "pygments_lexer": "ipython3",
   "version": "3.12.4"
  }
 },
 "nbformat": 4,
 "nbformat_minor": 5
}
